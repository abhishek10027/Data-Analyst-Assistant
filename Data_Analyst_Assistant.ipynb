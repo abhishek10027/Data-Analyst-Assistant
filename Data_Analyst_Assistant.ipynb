{
  "nbformat": 4,
  "nbformat_minor": 0,
  "metadata": {
    "colab": {
      "provenance": [],
      "gpuType": "T4"
    },
    "kernelspec": {
      "name": "python3",
      "display_name": "Python 3"
    },
    "language_info": {
      "name": "python"
    },
    "accelerator": "GPU"
  },
  "cells": [
    {
      "cell_type": "markdown",
      "source": [
        "# 🌟 Project Description\n",
        "\n",
        "  Data Analyst Assistant simplifies data exploration by combining the power of machine learning and large language models. It reads your dataset and allows you to ask questions such as “What is the average salary?” or “Which job title has the highest salary?” and returns meaningful insights using AI.\n",
        "\n",
        "  The assistant uses the first few rows, column names, and overall metadata to generate accurate, context-aware responses to user questions."
      ],
      "metadata": {
        "id": "Yhp_P4UncoSf"
      }
    },
    {
      "cell_type": "code",
      "source": [
        "!pip install requests\n"
      ],
      "metadata": {
        "colab": {
          "base_uri": "https://localhost:8080/"
        },
        "id": "vLP7cQnVvKJL",
        "outputId": "626ee8d3-f137-4c5c-c6dd-287c69023561"
      },
      "execution_count": 1,
      "outputs": [
        {
          "output_type": "stream",
          "name": "stdout",
          "text": [
            "Requirement already satisfied: requests in /usr/local/lib/python3.11/dist-packages (2.32.3)\n",
            "Requirement already satisfied: charset-normalizer<4,>=2 in /usr/local/lib/python3.11/dist-packages (from requests) (3.4.1)\n",
            "Requirement already satisfied: idna<4,>=2.5 in /usr/local/lib/python3.11/dist-packages (from requests) (3.10)\n",
            "Requirement already satisfied: urllib3<3,>=1.21.1 in /usr/local/lib/python3.11/dist-packages (from requests) (2.3.0)\n",
            "Requirement already satisfied: certifi>=2017.4.17 in /usr/local/lib/python3.11/dist-packages (from requests) (2025.1.31)\n"
          ]
        }
      ]
    },
    {
      "cell_type": "code",
      "source": [
        "import os\n",
        "\n",
        "# Set your token (Azure Inference currently uses GitHub PAT)\n",
        "os.environ[\"GITHUB_TOKEN\"] = \"Use your_personal_access_token\"\n"
      ],
      "metadata": {
        "id": "KjlidzpgvQjz"
      },
      "execution_count": 2,
      "outputs": []
    },
    {
      "cell_type": "code",
      "source": [
        "import os\n",
        "import pandas as pd\n",
        "import requests\n",
        "import json\n",
        "\n",
        "# Load GitHub token\n",
        "token = os.getenv(\"GITHUB_TOKEN\")  # Or set manually for testing\n",
        "\n",
        "# Azure model endpoint\n",
        "endpoint = \"https://models.inference.ai.azure.com/chat/completions\"\n",
        "model_name = \"Llama-3.3-70B-Instruct\"\n",
        "\n",
        "# Load user-provided dataset\n",
        "df = pd.read_csv('/content/ds_salaries.csv')\n",
        "\n",
        "# Function to query model with processed insights\n",
        "def ask_question_about_data(user_question):\n",
        "    # Preprocess or summarize relevant parts of the dataset\n",
        "    numerical_description = df.describe().to_string()\n",
        "    column_info = df.dtypes.to_string()\n",
        "    shape_info = f\"The dataset contains {df.shape[0]} rows and {df.shape[1]} columns.\"\n",
        "\n",
        "    # Prompt construction\n",
        "    prompt = f\"\"\" You are a professional data analyst. Here is the full context about a dataset:\n",
        "\n",
        "{shape_info}\n",
        "\n",
        "Column data types:\n",
        "{column_info}\n",
        "\n",
        "Summary statistics of numerical columns:\n",
        "{numerical_description}\n",
        "\n",
        "Now, using the information above, answer the following question:\n",
        "{user_question}\n",
        "\"\"\"\n",
        "\n",
        "    headers = {\n",
        "        \"Authorization\": f\"Bearer {token}\",\n",
        "        \"Content-Type\": \"application/json\"\n",
        "    }\n",
        "\n",
        "    payload = {\n",
        "        \"model\": model_name,\n",
        "        \"messages\": [\n",
        "            {\"role\": \"system\", \"content\": \"You are a helpful data analyst.\"},\n",
        "            {\"role\": \"user\", \"content\": prompt}\n",
        "        ],\n",
        "        \"temperature\": 0.7,\n",
        "        \"top_p\": 0.95,\n",
        "        \"max_tokens\": 800\n",
        "    }\n",
        "\n",
        "    response = requests.post(endpoint, headers=headers, json=payload)\n",
        "\n",
        "    if response.status_code == 200:\n",
        "        return response.json()[\"choices\"][0][\"message\"][\"content\"]\n",
        "    else:\n",
        "        return f\"Error: {response.status_code}, {response.text}\"\n"
      ],
      "metadata": {
        "id": "IVMF1zbjbZ3j"
      },
      "execution_count": 5,
      "outputs": []
    },
    {
      "cell_type": "code",
      "source": [
        "# Ask a single question at a time\n",
        "user_question = \"what are employment_type ?\"  # You can change this line\n",
        "response = ask_question_about_data(user_question)\n",
        "print(\"\\nResponse:\\n\", response)"
      ],
      "metadata": {
        "colab": {
          "base_uri": "https://localhost:8080/"
        },
        "id": "GBwoYWNv1f7m",
        "outputId": "fa9f03ce-3d5d-460a-8903-448334011da0"
      },
      "execution_count": 6,
      "outputs": [
        {
          "output_type": "stream",
          "name": "stdout",
          "text": [
            "\n",
            "Response:\n",
            " The data type for 'employment_type' is object, which typically means it's a categorical or string column. However, the specific categories or values within the 'employment_type' column are not provided in the summary statistics. \n",
            "\n",
            "To determine the specific employment types, you would need to examine the unique values within the 'employment_type' column. This could be done using the `unique()` function in pandas, for example: `df['employment_type'].unique()`. \n",
            "\n",
            "Common employment types might include full-time, part-time, contract, freelance, intern, etc., but without further information, we can't know the exact categories used in this dataset.\n"
          ]
        }
      ]
    },
    {
      "cell_type": "code",
      "source": [
        "# Ask a single question at a time\n",
        "user_question = \"what are mean of each numerical columns ?\"  # You can change this line\n",
        "response = ask_question_about_data(user_question)\n",
        "print(\"\\nResponse:\\n\", response)"
      ],
      "metadata": {
        "colab": {
          "base_uri": "https://localhost:8080/"
        },
        "id": "LXGDQ0mJy8ew",
        "outputId": "2ce249e2-ee8d-498f-f611-8da841a89cb9"
      },
      "execution_count": 7,
      "outputs": [
        {
          "output_type": "stream",
          "name": "stdout",
          "text": [
            "\n",
            "Response:\n",
            " To find the mean of each numerical column, we can look at the 'mean' row in the summary statistics provided. The numerical columns are 'work_year', 'salary', 'salary_in_usd', and 'remote_ratio'. \n",
            "\n",
            "The mean values are as follows:\n",
            "- work_year: 2022.373635\n",
            "- salary: 1.906956e+05 (or 190695.6)\n",
            "- salary_in_usd: 137570.389880\n",
            "- remote_ratio: 46.271638\n",
            "\n",
            "So, the mean of each numerical column is approximately 2022 for 'work_year', 190,696 for 'salary', 137,570 for 'salary_in_usd', and 46 for 'remote_ratio'.\n"
          ]
        }
      ]
    },
    {
      "cell_type": "code",
      "source": [
        "# Ask a single question at a time\n",
        "user_question = \"How many rows and columns are present in the dataset ?\"  # You can change this line\n",
        "response = ask_question_about_data(user_question)\n",
        "print(\"\\nResponse:\\n\", response)"
      ],
      "metadata": {
        "colab": {
          "base_uri": "https://localhost:8080/"
        },
        "id": "n0h1wxH2Q5Vw",
        "outputId": "5fc3ec0e-6d35-4bcc-e5ec-eb968942d631"
      },
      "execution_count": 8,
      "outputs": [
        {
          "output_type": "stream",
          "name": "stdout",
          "text": [
            "\n",
            "Response:\n",
            " The dataset contains 3755 rows and 11 columns.\n"
          ]
        }
      ]
    },
    {
      "cell_type": "code",
      "source": [
        "# Ask a single question at a time\n",
        "user_question = \"Hoo many null values are present in the dataser ?\"  # You can change this line\n",
        "response = ask_question_about_data(user_question)\n",
        "print(\"\\nResponse:\\n\", response)"
      ],
      "metadata": {
        "colab": {
          "base_uri": "https://localhost:8080/"
        },
        "id": "1hhYYX9Ab0S-",
        "outputId": "5b9fe997-4f6a-4f56-c2be-b4bd1551843c"
      },
      "execution_count": 9,
      "outputs": [
        {
          "output_type": "stream",
          "name": "stdout",
          "text": [
            "\n",
            "Response:\n",
            " Based on the provided summary statistics, there are no null values present in the numerical columns of the dataset. \n",
            "\n",
            "The 'count' row in the summary statistics table shows the number of non-null values in each column. Since the count is 3755 for all numerical columns, which is the total number of rows in the dataset, it indicates that there are no null values in these columns.\n",
            "\n",
            "However, without additional information about the categorical columns, we cannot determine if there are any null values in those columns.\n"
          ]
        }
      ]
    },
    {
      "cell_type": "code",
      "source": [
        "# Ask a single question at a time\n",
        "user_question = \"summary of the dataset ?\"  # You can change this line\n",
        "response = ask_question_about_data(user_question)\n",
        "print(\"\\nResponse:\\n\", response)"
      ],
      "metadata": {
        "colab": {
          "base_uri": "https://localhost:8080/"
        },
        "id": "Bwd-ft3Fb0es",
        "outputId": "f034577e-ba2c-4c60-e531-429ddbada098"
      },
      "execution_count": 10,
      "outputs": [
        {
          "output_type": "stream",
          "name": "stdout",
          "text": [
            "\n",
            "Response:\n",
            " Based on the provided information, here is a summary of the dataset:\n",
            "\n",
            "**Dataset Overview**\n",
            "\n",
            "* The dataset contains 3755 rows and 11 columns.\n",
            "* The columns include a mix of numerical and categorical data types.\n",
            "\n",
            "**Numerical Columns Summary**\n",
            "\n",
            "* The numerical columns are: `work_year`, `salary`, `salary_in_usd`, and `remote_ratio`.\n",
            "* The mean values for these columns are:\n",
            "\t+ `work_year`: 2022.37\n",
            "\t+ `salary`: $190,695.60\n",
            "\t+ `salary_in_usd`: $137,570.39\n",
            "\t+ `remote_ratio`: 46.27%\n",
            "* The standard deviations for these columns are:\n",
            "\t+ `work_year`: 0.69\n",
            "\t+ `salary`: $671,676.57\n",
            "\t+ `salary_in_usd`: $63,055.63\n",
            "\t+ `remote_ratio`: 48.59%\n",
            "* The minimum and maximum values for these columns are:\n",
            "\t+ `work_year`: 2020-2023\n",
            "\t+ `salary`: $6,000 - $30,400,000\n",
            "\t+ `salary_in_usd`: $5,132 - $450,000\n",
            "\t+ `remote_ratio`: 0% - 100%\n",
            "\n",
            "**Categorical Columns**\n",
            "\n",
            "* The categorical columns are: `experience_level`, `employment_type`, `job_title`, `salary_currency`, `employee_residence`, `company_location`, and `company_size`.\n",
            "* No summary statistics are provided for these columns, but they can be analyzed separately to understand their distributions and relationships with the numerical columns.\n",
            "\n",
            "Overall, the dataset appears to contain information about job postings or employee data, with a focus on salaries, employment characteristics, and company information. The numerical columns show a range of values, with some columns (like `salary`) having very large ranges and standard deviations, indicating potential outliers or skewness in the data.\n"
          ]
        }
      ]
    }
  ]
}